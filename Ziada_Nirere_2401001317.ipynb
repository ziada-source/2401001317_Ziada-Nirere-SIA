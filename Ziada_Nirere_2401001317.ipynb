{
  "nbformat": 4,
  "nbformat_minor": 0,
  "metadata": {
    "colab": {
      "provenance": [],
      "authorship_tag": "ABX9TyMu+sUY3B0NNc2+rqBBti6v",
      "include_colab_link": true
    },
    "kernelspec": {
      "name": "python3",
      "display_name": "Python 3"
    },
    "language_info": {
      "name": "python"
    }
  },
  "cells": [
    {
      "cell_type": "markdown",
      "metadata": {
        "id": "view-in-github",
        "colab_type": "text"
      },
      "source": [
        "<a href=\"https://colab.research.google.com/github/ziada-source/2401001317_Ziada-Nirere-SIA/blob/main/Ziada_Nirere_2401001317.ipynb\" target=\"_parent\"><img src=\"https://colab.research.google.com/assets/colab-badge.svg\" alt=\"Open In Colab\"/></a>"
      ]
    },
    {
      "cell_type": "code",
      "execution_count": 1,
      "metadata": {
        "id": "9mJ8gZuTRPLq"
      },
      "outputs": [],
      "source": [
        "import requests\n",
        "import json"
      ]
    },
    {
      "cell_type": "code",
      "source": [
        "pip install requests"
      ],
      "metadata": {
        "colab": {
          "base_uri": "https://localhost:8080/"
        },
        "id": "bTX2ebn-Rmk8",
        "outputId": "9e4d273e-f75a-4e33-9803-55e4391f5036"
      },
      "execution_count": 2,
      "outputs": [
        {
          "output_type": "stream",
          "name": "stdout",
          "text": [
            "Requirement already satisfied: requests in /usr/local/lib/python3.11/dist-packages (2.32.3)\n",
            "Requirement already satisfied: charset-normalizer<4,>=2 in /usr/local/lib/python3.11/dist-packages (from requests) (3.4.2)\n",
            "Requirement already satisfied: idna<4,>=2.5 in /usr/local/lib/python3.11/dist-packages (from requests) (3.10)\n",
            "Requirement already satisfied: urllib3<3,>=1.21.1 in /usr/local/lib/python3.11/dist-packages (from requests) (2.4.0)\n",
            "Requirement already satisfied: certifi>=2017.4.17 in /usr/local/lib/python3.11/dist-packages (from requests) (2025.7.9)\n"
          ]
        }
      ]
    },
    {
      "cell_type": "code",
      "source": [
        "import requests\n",
        "result = requests.get('https://api.stackexchange.com/2.3/questions?order=desc&sort=activity&site=stackoverflow')\n",
        "print (result)"
      ],
      "metadata": {
        "colab": {
          "base_uri": "https://localhost:8080/"
        },
        "id": "2W-FIUU6TOsE",
        "outputId": "9e6b2a80-3a17-46f4-9891-ec29a31ca297"
      },
      "execution_count": 3,
      "outputs": [
        {
          "output_type": "stream",
          "name": "stdout",
          "text": [
            "<Response [200]>\n"
          ]
        }
      ]
    },
    {
      "cell_type": "code",
      "source": [
        "print(result.json())"
      ],
      "metadata": {
        "colab": {
          "base_uri": "https://localhost:8080/"
        },
        "id": "4vGWhKy2TW8_",
        "outputId": "517a5951-0b66-4295-8636-543430f2b3f6"
      },
      "execution_count": 4,
      "outputs": [
        {
          "output_type": "stream",
          "name": "stdout",
          "text": [
            "{'items': [{'tags': ['google-kubernetes-engine', 'gke-networking', 'kube-proxy', 'cilium'], 'owner': {'account_id': 1086790, 'reputation': 579, 'user_id': 1082321, 'user_type': 'registered', 'accept_rate': 67, 'profile_image': 'https://www.gravatar.com/avatar/e6c4e54101fa674f2c729aa56639ba17?s=256&d=identicon&r=PG', 'display_name': 'Patrik Polakovic', 'link': 'https://stackoverflow.com/users/1082321/patrik-polakovic'}, 'is_answered': False, 'view_count': 31, 'answer_count': 1, 'score': 0, 'last_activity_date': 1752519520, 'creation_date': 1752234594, 'question_id': 79698289, 'content_license': 'CC BY-SA 4.0', 'link': 'https://stackoverflow.com/questions/79698289/pod-to-service-traffic-on-gke-dataplane-v2-vs-cilium', 'title': 'Pod to service traffic on GKE Dataplane v2 vs Cilium'}, {'tags': ['bash'], 'owner': {'account_id': 2174677, 'reputation': 510, 'user_id': 1925652, 'user_type': 'registered', 'profile_image': 'https://www.gravatar.com/avatar/181944bdd17e2c906af1617fa669717b?s=256&d=identicon&r=PG', 'display_name': 'profPlum', 'link': 'https://stackoverflow.com/users/1925652/profplum'}, 'is_answered': True, 'view_count': 37, 'answer_count': 2, 'score': 0, 'last_activity_date': 1752519508, 'creation_date': 1752512493, 'last_edit_date': 1752519508, 'question_id': 79701172, 'content_license': 'CC BY-SA 4.0', 'link': 'https://stackoverflow.com/questions/79701172/temporarily-export-entire-environment-for-a-single-command', 'title': 'Temporarily export entire environment for a single command?'}, {'tags': ['javascript', 'jquery', 'datetimepicker'], 'owner': {'account_id': 43032652, 'reputation': 1, 'user_id': 31040648, 'user_type': 'registered', 'profile_image': 'https://www.gravatar.com/avatar/4874ab52a724e428cd82949d9c194ae2?s=256&d=identicon&r=PG&f=y&so-version=2', 'display_name': 'Bagul CK', 'link': 'https://stackoverflow.com/users/31040648/bagul-ck'}, 'is_answered': False, 'view_count': 2, 'answer_count': 0, 'score': 0, 'last_activity_date': 1752519495, 'creation_date': 1752519495, 'question_id': 79701266, 'content_license': 'CC BY-SA 4.0', 'link': 'https://stackoverflow.com/questions/79701266/jquery-datetimepicker-selected-datetime-automatically-shifting-issue', 'title': 'Jquery DatetimePicker Selected Datetime automatically shifting Issue'}, {'tags': ['reactjs', 'forms', 'formik'], 'owner': {'account_id': 16508, 'reputation': 29562, 'user_id': 36036, 'user_type': 'registered', 'accept_rate': 92, 'profile_image': 'https://www.gravatar.com/avatar/2791d8cece0395dbfffce089e22049d4?s=256&d=identicon&r=PG&f=y&so-version=2', 'display_name': 'Aximili', 'link': 'https://stackoverflow.com/users/36036/aximili'}, 'is_answered': True, 'view_count': 238066, 'accepted_answer_id': 55618657, 'answer_count': 12, 'score': 79, 'last_activity_date': 1752519339, 'creation_date': 1554772793, 'question_id': 55583815, 'content_license': 'CC BY-SA 4.0', 'link': 'https://stackoverflow.com/questions/55583815/formik-how-to-reset-form-after-confirmation', 'title': 'Formik - How to reset form after confirmation'}, {'tags': ['javascript', 'html', 'events', 'onclick'], 'owner': {'account_id': 43032447, 'reputation': 9, 'user_id': 31040568, 'user_type': 'registered', 'profile_image': 'https://www.gravatar.com/avatar/500c2e5903ed516c5a2bbe0a8b9ae816?s=256&d=identicon&r=PG&f=y&so-version=2', 'display_name': 'Brian Grimes', 'link': 'https://stackoverflow.com/users/31040568/brian-grimes'}, 'is_answered': False, 'view_count': 13, 'answer_count': 0, 'score': 0, 'last_activity_date': 1752519247, 'creation_date': 1752518058, 'last_edit_date': 1752519247, 'question_id': 79701251, 'content_license': 'CC BY-SA 4.0', 'link': 'https://stackoverflow.com/questions/79701251/onclick-event-not-firing-under-any-circumstance-but-worked-earlier-in-document', 'title': 'onclick event not firing under any circumstance, but worked earlier in document'}, {'tags': ['azure', 'azure-devops', 'azure-pipelines', 'cicd'], 'owner': {'account_id': 42995249, 'reputation': 1, 'user_id': 31023599, 'user_type': 'registered', 'profile_image': 'https://www.gravatar.com/avatar/f26407b46df23941ae427220f117cb32?s=256&d=identicon&r=PG&f=y&so-version=2', 'display_name': 'Deepak D', 'link': 'https://stackoverflow.com/users/31023599/deepak-d'}, 'is_answered': False, 'view_count': 42, 'answer_count': 2, 'score': -1, 'last_activity_date': 1752519224, 'creation_date': 1752301612, 'last_edit_date': 1752516265, 'question_id': 79699052, 'content_license': 'CC BY-SA 4.0', 'link': 'https://stackoverflow.com/questions/79699052/approval-stage-in-azure-devops', 'title': 'Approval stage in Azure Devops'}, {'tags': ['c#', 'xbox'], 'owner': {'account_id': 34498319, 'reputation': 368, 'user_id': 26603661, 'user_type': 'registered', 'profile_image': 'https://www.gravatar.com/avatar/4c669a8b96d05133e7edea60ec367195?s=256&d=identicon&r=PG&f=y&so-version=2', 'display_name': 'magrega', 'link': 'https://stackoverflow.com/users/26603661/magrega'}, 'is_answered': False, 'view_count': 14, 'answer_count': 0, 'score': 1, 'last_activity_date': 1752519202, 'creation_date': 1752514691, 'last_edit_date': 1752519202, 'question_id': 79701207, 'content_license': 'CC BY-SA 4.0', 'link': 'https://stackoverflow.com/questions/79701207/how-to-write-data-to-a-gip-device-xbox-series-controller', 'title': 'How to write data to a gip device (Xbox Series controller)?'}, {'tags': ['iis', 'model-view-controller', 'unity-container'], 'owner': {'account_id': 1240203, 'reputation': 1738, 'user_id': 1203003, 'user_type': 'registered', 'accept_rate': 75, 'profile_image': 'https://www.gravatar.com/avatar/d91a630d70c5852b533b12196f13effb?s=256&d=identicon&r=PG', 'display_name': 'RenanStr', 'link': 'https://stackoverflow.com/users/1203003/renanstr'}, 'is_answered': True, 'view_count': 211, 'accepted_answer_id': 35966235, 'answer_count': 1, 'score': 0, 'last_activity_date': 1752519181, 'creation_date': 1457725346, 'last_edit_date': 1752519181, 'question_id': 35948579, 'content_license': 'CC BY-SA 4.0', 'link': 'https://stackoverflow.com/questions/35948579/unity-container-perresolvelivetimemanager-with-multi-database-and-multiple-reque', 'title': 'Unity Container PerResolveLiveTimeManager with multi-database and multiple requests on IIS'}, {'tags': ['python', 'numpy', 'scipy', 'signal-processing'], 'owner': {'account_id': 3480025, 'reputation': 13081, 'user_id': 2912349, 'user_type': 'registered', 'profile_image': 'https://www.gravatar.com/avatar/79792babe6b7925fd3a7a983785266df?s=256&d=identicon&r=PG&f=y&so-version=2', 'display_name': 'Paul Brodersen', 'link': 'https://stackoverflow.com/users/2912349/paul-brodersen'}, 'is_answered': False, 'view_count': 52, 'answer_count': 1, 'score': 3, 'last_activity_date': 1752519165, 'creation_date': 1752501724, 'last_edit_date': 1752507169, 'question_id': 79701003, 'content_license': 'CC BY-SA 4.0', 'link': 'https://stackoverflow.com/questions/79701003/generating-blue-noise-with-values-sampled-from-a-log-normal-distribution', 'title': 'Generating blue noise with values sampled from a log normal distribution'}, {'tags': ['next.js', 'proxy', 'copilot-kit'], 'owner': {'account_id': 36622042, 'reputation': 1, 'user_id': 27834193, 'user_type': 'registered', 'profile_image': 'https://www.gravatar.com/avatar/b92aa495c117fa1a2e3e58463b01e7d7?s=256&d=identicon&r=PG&f=y&so-version=2', 'display_name': 'Akhil Varghese', 'link': 'https://stackoverflow.com/users/27834193/akhil-varghese'}, 'is_answered': False, 'view_count': 15, 'answer_count': 0, 'score': 0, 'last_activity_date': 1752519124, 'creation_date': 1752473530, 'last_edit_date': 1752519124, 'question_id': 79700489, 'content_license': 'CC BY-SA 4.0', 'link': 'https://stackoverflow.com/questions/79700489/the-next-js-api-proxy-is-not-forwarding-cookies-properly', 'title': 'The Next js api proxy is not forwarding cookies properly'}, {'tags': ['react-native', 'expo', 'react-navigation', 'navigation-drawer', 'stack-navigator'], 'owner': {'account_id': 27228449, 'reputation': 154, 'user_id': 20756570, 'user_type': 'registered', 'profile_image': 'https://lh3.googleusercontent.com/a/AEdFTp7NEeS5qF2nRq_D9M8fmZ-CUcJ6OBg2ftoe_5Wr=k-s256', 'display_name': 'Shukla Dev', 'link': 'https://stackoverflow.com/users/20756570/shukla-dev'}, 'is_answered': False, 'view_count': 74, 'answer_count': 1, 'score': 0, 'last_activity_date': 1752519064, 'creation_date': 1751273984, 'last_edit_date': 1751284994, 'question_id': 79684498, 'content_license': 'CC BY-SA 4.0', 'link': 'https://stackoverflow.com/questions/79684498/reactnative-backhandler-removeeventlistener-is-not-a-function-it-is-undefined', 'title': '_reactNative.BackHandler.removeEventListener is not a function (it is undefined)'}, {'tags': ['python', 'tensorflow', 'visual-studio-code', 'keras'], 'owner': {'account_id': 25296367, 'reputation': 361, 'user_id': 19121443, 'user_type': 'registered', 'profile_image': 'https://i.sstatic.net/xFfsXMTi.png?s=256', 'display_name': 'Soroush Mirzaei', 'link': 'https://stackoverflow.com/users/19121443/soroush-mirzaei'}, 'is_answered': True, 'view_count': 3680, 'accepted_answer_id': 73537624, 'answer_count': 2, 'score': 4, 'last_activity_date': 1752519031, 'creation_date': 1661495733, 'last_edit_date': 1661844869, 'question_id': 73496946, 'content_license': 'CC BY-SA 4.0', 'link': 'https://stackoverflow.com/questions/73496946/vscode-autocomplete-and-suggestion-intellisense-doesnt-work-for-tensorflow-an', 'title': 'VSCode Autocomplete And Suggestion (IntelliSense) Doesn&#39;t Work For Tensorflow And Keras Libraries?'}, {'tags': ['css', 'internet-explorer', 'quirks-mode'], 'owner': {'account_id': 87606, 'reputation': 5676, 'user_id': 242839, 'user_type': 'registered', 'accept_rate': 70, 'profile_image': 'https://i.sstatic.net/MxdJD.png?s=256', 'display_name': 'Jorge', 'link': 'https://stackoverflow.com/users/242839/jorge'}, 'is_answered': True, 'view_count': 553, 'accepted_answer_id': 2000110, 'answer_count': 2, 'score': 3, 'last_activity_date': 1752518983, 'creation_date': 1262617667, 'last_edit_date': 1752518983, 'question_id': 2000089, 'content_license': 'CC BY-SA 4.0', 'link': 'https://stackoverflow.com/questions/2000089/what-is-the-quirksmode-code-for-loading-styles-based-on-ie-version', 'title': 'What is the quirksmode code for loading styles based on IE version'}, {'tags': ['arrays', 'algorithm', 'recursion'], 'owner': {'account_id': 17210473, 'reputation': 9, 'user_id': 20127888, 'user_type': 'registered', 'profile_image': 'https://www.gravatar.com/avatar/b6c8e6ac67a6aeb8dae4bd9892e5a9ca?s=256&d=identicon&r=PG', 'display_name': 'user20127888', 'link': 'https://stackoverflow.com/users/20127888/user20127888'}, 'is_answered': False, 'view_count': 77, 'closed_date': 1752515207, 'answer_count': 0, 'score': 0, 'last_activity_date': 1752518900, 'creation_date': 1752500295, 'last_edit_date': 1752518900, 'question_id': 79700970, 'link': 'https://stackoverflow.com/questions/79700970/how-to-implement-a-generalized-n-sum-algorithm-for-variable-k-user-input-in-ja', 'closed_reason': 'Needs more focus', 'title': 'How to implement a generalized N-Sum algorithm for variable k (user input) in Java?'}, {'tags': ['entity-framework', 'ef-code-first'], 'owner': {'account_id': 297892, 'reputation': 5965, 'user_id': 603637, 'user_type': 'registered', 'accept_rate': 50, 'profile_image': 'https://www.gravatar.com/avatar/002201b3a1df4df7adc77ab91d675568?s=256&d=identicon&r=PG', 'display_name': 'Marcelo Calbucci', 'link': 'https://stackoverflow.com/users/603637/marcelo-calbucci'}, 'is_answered': True, 'view_count': 136489, 'accepted_answer_id': 6586990, 'answer_count': 9, 'score': 176, 'last_activity_date': 1752518849, 'creation_date': 1309560700, 'last_edit_date': 1460340154, 'question_id': 6553935, 'content_license': 'CC BY-SA 3.0', 'link': 'https://stackoverflow.com/questions/6553935/ef-code-first-invalid-column-name-discriminator-but-no-inheritance', 'title': 'EF Code First &quot;Invalid column name &#39;Discriminator&#39;&quot; but no inheritance'}, {'tags': ['html', 'css', 'css-selectors', 'custom-data-attribute'], 'owner': {'account_id': 114315, 'reputation': 12142, 'user_id': 300675, 'user_type': 'registered', 'accept_rate': 45, 'profile_image': 'https://www.gravatar.com/avatar/588bfbc2e371b732ae4904579bd95a69?s=256&d=identicon&r=PG', 'display_name': 'yarek', 'link': 'https://stackoverflow.com/users/300675/yarek'}, 'is_answered': True, 'view_count': 1201, 'accepted_answer_id': 60821188, 'answer_count': 1, 'score': 1, 'last_activity_date': 1752518817, 'creation_date': 1584987591, 'last_edit_date': 1752518602, 'question_id': 60819432, 'content_license': 'CC BY-SA 4.0', 'link': 'https://stackoverflow.com/questions/60819432/can-i-select-an-element-based-on-a-data-value-greater-than-comparison', 'title': 'Can I select an element based on a data value greater than comparison?'}, {'tags': ['c#', 'microsoft-teams', 'azure-communication-services'], 'owner': {'account_id': 9526200, 'reputation': 193, 'user_id': 7079339, 'user_type': 'registered', 'accept_rate': 43, 'profile_image': 'https://www.gravatar.com/avatar/9ad3e55f00118075beeba887f2bbd605?s=256&d=identicon&r=PG&f=y&so-version=2', 'display_name': 'Vladimir B', 'link': 'https://stackoverflow.com/users/7079339/vladimir-b'}, 'is_answered': False, 'view_count': 70, 'answer_count': 1, 'score': 0, 'last_activity_date': 1752518773, 'creation_date': 1752098204, 'last_edit_date': 1752503317, 'question_id': 79696298, 'content_license': 'CC BY-SA 4.0', 'link': 'https://stackoverflow.com/questions/79696298/how-to-accept-incoming-teams-call-in-acs-call-automation-sdk-and-transfer-to-sip', 'title': 'How to accept incoming Teams call in ACS Call Automation SDK and transfer to SIP without Teams Phone license?'}, {'tags': ['php', 'laravel', 'laravel-livewire'], 'owner': {'account_id': 33277634, 'reputation': 1, 'user_id': 25766435, 'user_type': 'registered', 'profile_image': 'https://www.gravatar.com/avatar/c31b366544c4f4ca34f662e98a3595dd?s=256&d=identicon&r=PG&f=y&so-version=2', 'display_name': 'Juma Russell', 'link': 'https://stackoverflow.com/users/25766435/juma-russell'}, 'is_answered': False, 'view_count': 11, 'answer_count': 0, 'score': 0, 'last_activity_date': 1752518767, 'creation_date': 1752517265, 'last_edit_date': 1752518767, 'question_id': 79701241, 'content_license': 'CC BY-SA 4.0', 'link': 'https://stackoverflow.com/questions/79701241/i-am-trying-to-dispatch-an-event-inside-a-lifecycle-hook-but-enters-into-an-inf', 'title': 'I am trying to dispatch an event inside a lifecycle hook, but enters into an infinite loop'}, {'tags': ['r', 'gtsummary', 'gt'], 'owner': {'account_id': 424128, 'reputation': 4260, 'user_id': 803954, 'user_type': 'registered', 'accept_rate': 96, 'profile_image': 'https://www.gravatar.com/avatar/2dc4da653d69b00d585db6b28ba0e247?s=256&d=identicon&r=PG', 'display_name': 'bdeonovic', 'link': 'https://stackoverflow.com/users/803954/bdeonovic'}, 'is_answered': True, 'view_count': 37, 'answer_count': 1, 'score': 4, 'last_activity_date': 1752518767, 'creation_date': 1752513286, 'last_edit_date': 1752518767, 'question_id': 79701189, 'content_license': 'CC BY-SA 4.0', 'link': 'https://stackoverflow.com/questions/79701189/r-disable-formatting-of-fractions-in-tbl-summary', 'title': 'R: Disable Formatting of fractions in tbl_summary'}, {'tags': ['c++', 'interactive-brokers'], 'owner': {'account_id': 4437820, 'reputation': 685, 'user_id': 3613174, 'user_type': 'registered', 'accept_rate': 29, 'profile_image': 'https://www.gravatar.com/avatar/a97a4b4c6c90dbebc6b7d8481dd16081?s=256&d=identicon&r=PG&f=y&so-version=2', 'display_name': 'user3613174', 'link': 'https://stackoverflow.com/users/3613174/user3613174'}, 'is_answered': False, 'view_count': 24, 'answer_count': 0, 'score': -1, 'last_activity_date': 1752518743, 'creation_date': 1752518743, 'question_id': 79701259, 'content_license': 'CC BY-SA 4.0', 'link': 'https://stackoverflow.com/questions/79701259/create-a-new-crypto-order-stock-demo-code', 'title': 'Create a new Crypto order - stock demo/code'}, {'tags': ['c#', 'asp.net-core', 'entity-framework-core', '.net-9.0'], 'owner': {'account_id': 43030625, 'reputation': 1, 'user_id': 31039703, 'user_type': 'registered', 'profile_image': 'https://www.gravatar.com/avatar/7d3c5cf893eb9c1ff130df651326a9f8?s=256&d=identicon&r=PG&f=y&so-version=2', 'display_name': 'Santiago Garc&#237;a', 'link': 'https://stackoverflow.com/users/31039703/santiago-garc%c3%ada'}, 'is_answered': False, 'view_count': 23, 'answer_count': 0, 'score': 0, 'last_activity_date': 1752518738, 'creation_date': 1752510388, 'last_edit_date': 1752518738, 'question_id': 79701130, 'content_license': 'CC BY-SA 4.0', 'link': 'https://stackoverflow.com/questions/79701130/how-works-idesigntimedbcontextfactory', 'title': 'How works IDesignTimeDbContextFactory?'}, {'tags': ['java', 'spring', 'junit'], 'owner': {'account_id': 987434, 'reputation': 12320, 'user_id': 1005607, 'user_type': 'registered', 'accept_rate': 64, 'profile_image': 'https://www.gravatar.com/avatar/784311347e657bc34c93a6b7cb7d3faf?s=256&d=identicon&r=PG', 'display_name': 'gene b.', 'link': 'https://stackoverflow.com/users/1005607/gene-b'}, 'is_answered': False, 'view_count': 11, 'answer_count': 0, 'score': 0, 'last_activity_date': 1752518639, 'creation_date': 1752517077, 'last_edit_date': 1752518639, 'question_id': 79701240, 'content_license': 'CC BY-SA 4.0', 'link': 'https://stackoverflow.com/questions/79701240/disabledif-with-junit-depending-on-a-string-value-in-application-yml', 'title': '@DisabledIf with jUnit depending on a string value in application.yml'}, {'tags': ['r', 'ggplot2'], 'owner': {'account_id': 30669519, 'reputation': 6601, 'user_id': 23512643, 'user_type': 'registered', 'profile_image': 'https://i.sstatic.net/Q8Sz4.jpg?s=256', 'display_name': 'stats_noob', 'link': 'https://stackoverflow.com/users/23512643/stats-noob'}, 'is_answered': False, 'view_count': 158, 'answer_count': 1, 'score': 1, 'last_activity_date': 1752518622, 'creation_date': 1743742026, 'last_edit_date': 1752518622, 'question_id': 79554476, 'content_license': 'CC BY-SA 4.0', 'link': 'https://stackoverflow.com/questions/79554476/creating-a-block-graph-in-r', 'title': 'Creating a block graph in R'}, {'tags': ['kotlin', 'google-sheets-api'], 'owner': {'account_id': 2073393, 'reputation': 3575, 'user_id': 1847378, 'user_type': 'registered', 'profile_image': 'https://www.gravatar.com/avatar/e8990d3c34829910b2318ed16b09544d?s=256&d=identicon&r=PG', 'display_name': 'AndrewL', 'link': 'https://stackoverflow.com/users/1847378/andrewl'}, 'is_answered': False, 'view_count': 866, 'answer_count': 1, 'score': 0, 'last_activity_date': 1752518560, 'creation_date': 1663954041, 'question_id': 73831133, 'content_license': 'CC BY-SA 4.0', 'link': 'https://stackoverflow.com/questions/73831133/how-do-you-convert-a1-notation-into-gridrange-for-google-spreadsheet-api', 'title': 'How do you convert A1 Notation into GridRange for Google Spreadsheet API'}, {'tags': ['wakeup', 'macbookpro'], 'owner': {'account_id': 43032254, 'reputation': 1, 'user_id': 31040554, 'user_type': 'registered', 'profile_image': 'https://www.gravatar.com/avatar/4444137e98f0d72c6197a3fed50341df?s=256&d=identicon&r=PG&f=y&so-version=2', 'display_name': 'NikRib', 'link': 'https://stackoverflow.com/users/31040554/nikrib'}, 'is_answered': False, 'view_count': 15, 'closed_date': 1752518909, 'answer_count': 0, 'score': -2, 'last_activity_date': 1752518536, 'creation_date': 1752518536, 'question_id': 79701257, 'link': 'https://stackoverflow.com/questions/79701257/how-to-prevent-macbook-pro-from-powering-up-by-pressing-any-key', 'closed_reason': 'Not suitable for this site', 'title': 'how to prevent macbook pro from powering up by pressing any key'}, {'tags': ['python', 'apache-spark', 'pyspark'], 'owner': {'account_id': 22081918, 'reputation': 23, 'user_id': 16341374, 'user_type': 'registered', 'profile_image': 'https://lh3.googleusercontent.com/a/AATXAJyXH1yRVYy3OauvRDTBuj8mry9qNmCWtCnYkA5d=k-s256', 'display_name': 'Aaditya ', 'link': 'https://stackoverflow.com/users/16341374/aaditya'}, 'is_answered': False, 'view_count': 69, 'answer_count': 0, 'score': 0, 'last_activity_date': 1752518355, 'creation_date': 1750757553, 'last_edit_date': 1752518232, 'question_id': 79677346, 'content_license': 'CC BY-SA 4.0', 'link': 'https://stackoverflow.com/questions/79677346/does-converting-an-rdd-to-dataframe-and-back-affect-partitions-or-data-structure', 'title': 'Does converting an RDD to DataFrame and back affect partitions or data structure inside partitions in Spark?'}, {'tags': ['nunit', 'nunit-console'], 'owner': {'account_id': 2329897, 'reputation': 102, 'user_id': 2043579, 'user_type': 'registered', 'profile_image': 'https://www.gravatar.com/avatar/49579674c78a8961b37de408aa7308d6?s=256&d=identicon&r=PG', 'display_name': 'Ken', 'link': 'https://stackoverflow.com/users/2043579/ken'}, 'is_answered': False, 'view_count': 9, 'answer_count': 1, 'score': 0, 'last_activity_date': 1752518335, 'creation_date': 1752507853, 'question_id': 79701099, 'content_license': 'CC BY-SA 4.0', 'link': 'https://stackoverflow.com/questions/79701099/how-can-i-set-a-session-timeout-for-the-entire-test-run-with-nunit-console-via-c', 'title': 'How can I set a session timeout for the entire test run with NUnit Console via command-line?'}, {'tags': ['list', 'cmake', 'macros', 'set', 'expansion'], 'owner': {'account_id': 12684651, 'reputation': 657, 'user_id': 9216943, 'user_type': 'registered', 'profile_image': 'https://lh6.googleusercontent.com/-Vq8ii5GQCKw/AAAAAAAAAAI/AAAAAAAAAU4/Q-nW6SPnbc4/s256-rj/photo.jpg', 'display_name': 'Zach ', 'link': 'https://stackoverflow.com/users/9216943/zach'}, 'is_answered': False, 'view_count': 40, 'closed_date': 1752174531, 'answer_count': 0, 'score': 0, 'last_activity_date': 1752518303, 'creation_date': 1751932622, 'last_edit_date': 1752518303, 'question_id': 79693529, 'link': 'https://stackoverflow.com/questions/79693529/why-does-this-cmake-list-variable-expansion-not-behave-as-expected', 'closed_reason': 'Not suitable for this site', 'title': 'Why does this CMake list variable expansion not behave as expected?'}, {'tags': ['c', 'windows', 'debugging', 'windbg'], 'owner': {'account_id': 102320, 'reputation': 1538, 'user_id': 274726, 'user_type': 'registered', 'accept_rate': 69, 'profile_image': 'https://www.gravatar.com/avatar/74488565698c574377f9241216e33525?s=256&d=identicon&r=PG', 'display_name': 'Alex Spence', 'link': 'https://stackoverflow.com/users/274726/alex-spence'}, 'is_answered': True, 'view_count': 5457, 'accepted_answer_id': 11475158, 'answer_count': 2, 'score': 3, 'last_activity_date': 1752518280, 'creation_date': 1342199008, 'last_edit_date': 1342199128, 'question_id': 11475063, 'content_license': 'CC BY-SA 3.0', 'link': 'https://stackoverflow.com/questions/11475063/how-to-print-the-data-of-a-c-structure-in-windbg', 'title': 'How to print the data of a C structure in Windbg'}, {'tags': ['c#', 'string'], 'owner': {'account_id': 1491757, 'reputation': 817, 'user_id': 1398693, 'user_type': 'registered', 'accept_rate': 100, 'profile_image': 'https://www.gravatar.com/avatar/132b062289b079963d0b52b724cf9da4?s=256&d=identicon&r=PG', 'display_name': 'Axxelsian', 'link': 'https://stackoverflow.com/users/1398693/axxelsian'}, 'is_answered': True, 'view_count': 40937, 'closed_date': 1362645209, 'answer_count': 3, 'score': 13, 'last_activity_date': 1752518214, 'creation_date': 1338903313, 'last_edit_date': 1338903654, 'question_id': 10898338, 'link': 'https://stackoverflow.com/questions/10898338/c-string-replace-to-remove-illegal-characters', 'closed_reason': 'exact duplicate', 'title': 'C# string.replace to remove illegal characters'}], 'has_more': True, 'quota_max': 300, 'quota_remaining': 299}\n"
          ]
        }
      ]
    },
    {
      "cell_type": "code",
      "source": [
        "print(result.json()['items'])"
      ],
      "metadata": {
        "colab": {
          "base_uri": "https://localhost:8080/"
        },
        "id": "vXPg1BAZqUXw",
        "outputId": "aa3767ee-e79d-4260-e163-8e4fbc2d309c"
      },
      "execution_count": 5,
      "outputs": [
        {
          "output_type": "stream",
          "name": "stdout",
          "text": [
            "[{'tags': ['google-kubernetes-engine', 'gke-networking', 'kube-proxy', 'cilium'], 'owner': {'account_id': 1086790, 'reputation': 579, 'user_id': 1082321, 'user_type': 'registered', 'accept_rate': 67, 'profile_image': 'https://www.gravatar.com/avatar/e6c4e54101fa674f2c729aa56639ba17?s=256&d=identicon&r=PG', 'display_name': 'Patrik Polakovic', 'link': 'https://stackoverflow.com/users/1082321/patrik-polakovic'}, 'is_answered': False, 'view_count': 31, 'answer_count': 1, 'score': 0, 'last_activity_date': 1752519520, 'creation_date': 1752234594, 'question_id': 79698289, 'content_license': 'CC BY-SA 4.0', 'link': 'https://stackoverflow.com/questions/79698289/pod-to-service-traffic-on-gke-dataplane-v2-vs-cilium', 'title': 'Pod to service traffic on GKE Dataplane v2 vs Cilium'}, {'tags': ['bash'], 'owner': {'account_id': 2174677, 'reputation': 510, 'user_id': 1925652, 'user_type': 'registered', 'profile_image': 'https://www.gravatar.com/avatar/181944bdd17e2c906af1617fa669717b?s=256&d=identicon&r=PG', 'display_name': 'profPlum', 'link': 'https://stackoverflow.com/users/1925652/profplum'}, 'is_answered': True, 'view_count': 37, 'answer_count': 2, 'score': 0, 'last_activity_date': 1752519508, 'creation_date': 1752512493, 'last_edit_date': 1752519508, 'question_id': 79701172, 'content_license': 'CC BY-SA 4.0', 'link': 'https://stackoverflow.com/questions/79701172/temporarily-export-entire-environment-for-a-single-command', 'title': 'Temporarily export entire environment for a single command?'}, {'tags': ['javascript', 'jquery', 'datetimepicker'], 'owner': {'account_id': 43032652, 'reputation': 1, 'user_id': 31040648, 'user_type': 'registered', 'profile_image': 'https://www.gravatar.com/avatar/4874ab52a724e428cd82949d9c194ae2?s=256&d=identicon&r=PG&f=y&so-version=2', 'display_name': 'Bagul CK', 'link': 'https://stackoverflow.com/users/31040648/bagul-ck'}, 'is_answered': False, 'view_count': 2, 'answer_count': 0, 'score': 0, 'last_activity_date': 1752519495, 'creation_date': 1752519495, 'question_id': 79701266, 'content_license': 'CC BY-SA 4.0', 'link': 'https://stackoverflow.com/questions/79701266/jquery-datetimepicker-selected-datetime-automatically-shifting-issue', 'title': 'Jquery DatetimePicker Selected Datetime automatically shifting Issue'}, {'tags': ['reactjs', 'forms', 'formik'], 'owner': {'account_id': 16508, 'reputation': 29562, 'user_id': 36036, 'user_type': 'registered', 'accept_rate': 92, 'profile_image': 'https://www.gravatar.com/avatar/2791d8cece0395dbfffce089e22049d4?s=256&d=identicon&r=PG&f=y&so-version=2', 'display_name': 'Aximili', 'link': 'https://stackoverflow.com/users/36036/aximili'}, 'is_answered': True, 'view_count': 238066, 'accepted_answer_id': 55618657, 'answer_count': 12, 'score': 79, 'last_activity_date': 1752519339, 'creation_date': 1554772793, 'question_id': 55583815, 'content_license': 'CC BY-SA 4.0', 'link': 'https://stackoverflow.com/questions/55583815/formik-how-to-reset-form-after-confirmation', 'title': 'Formik - How to reset form after confirmation'}, {'tags': ['javascript', 'html', 'events', 'onclick'], 'owner': {'account_id': 43032447, 'reputation': 9, 'user_id': 31040568, 'user_type': 'registered', 'profile_image': 'https://www.gravatar.com/avatar/500c2e5903ed516c5a2bbe0a8b9ae816?s=256&d=identicon&r=PG&f=y&so-version=2', 'display_name': 'Brian Grimes', 'link': 'https://stackoverflow.com/users/31040568/brian-grimes'}, 'is_answered': False, 'view_count': 13, 'answer_count': 0, 'score': 0, 'last_activity_date': 1752519247, 'creation_date': 1752518058, 'last_edit_date': 1752519247, 'question_id': 79701251, 'content_license': 'CC BY-SA 4.0', 'link': 'https://stackoverflow.com/questions/79701251/onclick-event-not-firing-under-any-circumstance-but-worked-earlier-in-document', 'title': 'onclick event not firing under any circumstance, but worked earlier in document'}, {'tags': ['azure', 'azure-devops', 'azure-pipelines', 'cicd'], 'owner': {'account_id': 42995249, 'reputation': 1, 'user_id': 31023599, 'user_type': 'registered', 'profile_image': 'https://www.gravatar.com/avatar/f26407b46df23941ae427220f117cb32?s=256&d=identicon&r=PG&f=y&so-version=2', 'display_name': 'Deepak D', 'link': 'https://stackoverflow.com/users/31023599/deepak-d'}, 'is_answered': False, 'view_count': 42, 'answer_count': 2, 'score': -1, 'last_activity_date': 1752519224, 'creation_date': 1752301612, 'last_edit_date': 1752516265, 'question_id': 79699052, 'content_license': 'CC BY-SA 4.0', 'link': 'https://stackoverflow.com/questions/79699052/approval-stage-in-azure-devops', 'title': 'Approval stage in Azure Devops'}, {'tags': ['c#', 'xbox'], 'owner': {'account_id': 34498319, 'reputation': 368, 'user_id': 26603661, 'user_type': 'registered', 'profile_image': 'https://www.gravatar.com/avatar/4c669a8b96d05133e7edea60ec367195?s=256&d=identicon&r=PG&f=y&so-version=2', 'display_name': 'magrega', 'link': 'https://stackoverflow.com/users/26603661/magrega'}, 'is_answered': False, 'view_count': 14, 'answer_count': 0, 'score': 1, 'last_activity_date': 1752519202, 'creation_date': 1752514691, 'last_edit_date': 1752519202, 'question_id': 79701207, 'content_license': 'CC BY-SA 4.0', 'link': 'https://stackoverflow.com/questions/79701207/how-to-write-data-to-a-gip-device-xbox-series-controller', 'title': 'How to write data to a gip device (Xbox Series controller)?'}, {'tags': ['iis', 'model-view-controller', 'unity-container'], 'owner': {'account_id': 1240203, 'reputation': 1738, 'user_id': 1203003, 'user_type': 'registered', 'accept_rate': 75, 'profile_image': 'https://www.gravatar.com/avatar/d91a630d70c5852b533b12196f13effb?s=256&d=identicon&r=PG', 'display_name': 'RenanStr', 'link': 'https://stackoverflow.com/users/1203003/renanstr'}, 'is_answered': True, 'view_count': 211, 'accepted_answer_id': 35966235, 'answer_count': 1, 'score': 0, 'last_activity_date': 1752519181, 'creation_date': 1457725346, 'last_edit_date': 1752519181, 'question_id': 35948579, 'content_license': 'CC BY-SA 4.0', 'link': 'https://stackoverflow.com/questions/35948579/unity-container-perresolvelivetimemanager-with-multi-database-and-multiple-reque', 'title': 'Unity Container PerResolveLiveTimeManager with multi-database and multiple requests on IIS'}, {'tags': ['python', 'numpy', 'scipy', 'signal-processing'], 'owner': {'account_id': 3480025, 'reputation': 13081, 'user_id': 2912349, 'user_type': 'registered', 'profile_image': 'https://www.gravatar.com/avatar/79792babe6b7925fd3a7a983785266df?s=256&d=identicon&r=PG&f=y&so-version=2', 'display_name': 'Paul Brodersen', 'link': 'https://stackoverflow.com/users/2912349/paul-brodersen'}, 'is_answered': False, 'view_count': 52, 'answer_count': 1, 'score': 3, 'last_activity_date': 1752519165, 'creation_date': 1752501724, 'last_edit_date': 1752507169, 'question_id': 79701003, 'content_license': 'CC BY-SA 4.0', 'link': 'https://stackoverflow.com/questions/79701003/generating-blue-noise-with-values-sampled-from-a-log-normal-distribution', 'title': 'Generating blue noise with values sampled from a log normal distribution'}, {'tags': ['next.js', 'proxy', 'copilot-kit'], 'owner': {'account_id': 36622042, 'reputation': 1, 'user_id': 27834193, 'user_type': 'registered', 'profile_image': 'https://www.gravatar.com/avatar/b92aa495c117fa1a2e3e58463b01e7d7?s=256&d=identicon&r=PG&f=y&so-version=2', 'display_name': 'Akhil Varghese', 'link': 'https://stackoverflow.com/users/27834193/akhil-varghese'}, 'is_answered': False, 'view_count': 15, 'answer_count': 0, 'score': 0, 'last_activity_date': 1752519124, 'creation_date': 1752473530, 'last_edit_date': 1752519124, 'question_id': 79700489, 'content_license': 'CC BY-SA 4.0', 'link': 'https://stackoverflow.com/questions/79700489/the-next-js-api-proxy-is-not-forwarding-cookies-properly', 'title': 'The Next js api proxy is not forwarding cookies properly'}, {'tags': ['react-native', 'expo', 'react-navigation', 'navigation-drawer', 'stack-navigator'], 'owner': {'account_id': 27228449, 'reputation': 154, 'user_id': 20756570, 'user_type': 'registered', 'profile_image': 'https://lh3.googleusercontent.com/a/AEdFTp7NEeS5qF2nRq_D9M8fmZ-CUcJ6OBg2ftoe_5Wr=k-s256', 'display_name': 'Shukla Dev', 'link': 'https://stackoverflow.com/users/20756570/shukla-dev'}, 'is_answered': False, 'view_count': 74, 'answer_count': 1, 'score': 0, 'last_activity_date': 1752519064, 'creation_date': 1751273984, 'last_edit_date': 1751284994, 'question_id': 79684498, 'content_license': 'CC BY-SA 4.0', 'link': 'https://stackoverflow.com/questions/79684498/reactnative-backhandler-removeeventlistener-is-not-a-function-it-is-undefined', 'title': '_reactNative.BackHandler.removeEventListener is not a function (it is undefined)'}, {'tags': ['python', 'tensorflow', 'visual-studio-code', 'keras'], 'owner': {'account_id': 25296367, 'reputation': 361, 'user_id': 19121443, 'user_type': 'registered', 'profile_image': 'https://i.sstatic.net/xFfsXMTi.png?s=256', 'display_name': 'Soroush Mirzaei', 'link': 'https://stackoverflow.com/users/19121443/soroush-mirzaei'}, 'is_answered': True, 'view_count': 3680, 'accepted_answer_id': 73537624, 'answer_count': 2, 'score': 4, 'last_activity_date': 1752519031, 'creation_date': 1661495733, 'last_edit_date': 1661844869, 'question_id': 73496946, 'content_license': 'CC BY-SA 4.0', 'link': 'https://stackoverflow.com/questions/73496946/vscode-autocomplete-and-suggestion-intellisense-doesnt-work-for-tensorflow-an', 'title': 'VSCode Autocomplete And Suggestion (IntelliSense) Doesn&#39;t Work For Tensorflow And Keras Libraries?'}, {'tags': ['css', 'internet-explorer', 'quirks-mode'], 'owner': {'account_id': 87606, 'reputation': 5676, 'user_id': 242839, 'user_type': 'registered', 'accept_rate': 70, 'profile_image': 'https://i.sstatic.net/MxdJD.png?s=256', 'display_name': 'Jorge', 'link': 'https://stackoverflow.com/users/242839/jorge'}, 'is_answered': True, 'view_count': 553, 'accepted_answer_id': 2000110, 'answer_count': 2, 'score': 3, 'last_activity_date': 1752518983, 'creation_date': 1262617667, 'last_edit_date': 1752518983, 'question_id': 2000089, 'content_license': 'CC BY-SA 4.0', 'link': 'https://stackoverflow.com/questions/2000089/what-is-the-quirksmode-code-for-loading-styles-based-on-ie-version', 'title': 'What is the quirksmode code for loading styles based on IE version'}, {'tags': ['arrays', 'algorithm', 'recursion'], 'owner': {'account_id': 17210473, 'reputation': 9, 'user_id': 20127888, 'user_type': 'registered', 'profile_image': 'https://www.gravatar.com/avatar/b6c8e6ac67a6aeb8dae4bd9892e5a9ca?s=256&d=identicon&r=PG', 'display_name': 'user20127888', 'link': 'https://stackoverflow.com/users/20127888/user20127888'}, 'is_answered': False, 'view_count': 77, 'closed_date': 1752515207, 'answer_count': 0, 'score': 0, 'last_activity_date': 1752518900, 'creation_date': 1752500295, 'last_edit_date': 1752518900, 'question_id': 79700970, 'link': 'https://stackoverflow.com/questions/79700970/how-to-implement-a-generalized-n-sum-algorithm-for-variable-k-user-input-in-ja', 'closed_reason': 'Needs more focus', 'title': 'How to implement a generalized N-Sum algorithm for variable k (user input) in Java?'}, {'tags': ['entity-framework', 'ef-code-first'], 'owner': {'account_id': 297892, 'reputation': 5965, 'user_id': 603637, 'user_type': 'registered', 'accept_rate': 50, 'profile_image': 'https://www.gravatar.com/avatar/002201b3a1df4df7adc77ab91d675568?s=256&d=identicon&r=PG', 'display_name': 'Marcelo Calbucci', 'link': 'https://stackoverflow.com/users/603637/marcelo-calbucci'}, 'is_answered': True, 'view_count': 136489, 'accepted_answer_id': 6586990, 'answer_count': 9, 'score': 176, 'last_activity_date': 1752518849, 'creation_date': 1309560700, 'last_edit_date': 1460340154, 'question_id': 6553935, 'content_license': 'CC BY-SA 3.0', 'link': 'https://stackoverflow.com/questions/6553935/ef-code-first-invalid-column-name-discriminator-but-no-inheritance', 'title': 'EF Code First &quot;Invalid column name &#39;Discriminator&#39;&quot; but no inheritance'}, {'tags': ['html', 'css', 'css-selectors', 'custom-data-attribute'], 'owner': {'account_id': 114315, 'reputation': 12142, 'user_id': 300675, 'user_type': 'registered', 'accept_rate': 45, 'profile_image': 'https://www.gravatar.com/avatar/588bfbc2e371b732ae4904579bd95a69?s=256&d=identicon&r=PG', 'display_name': 'yarek', 'link': 'https://stackoverflow.com/users/300675/yarek'}, 'is_answered': True, 'view_count': 1201, 'accepted_answer_id': 60821188, 'answer_count': 1, 'score': 1, 'last_activity_date': 1752518817, 'creation_date': 1584987591, 'last_edit_date': 1752518602, 'question_id': 60819432, 'content_license': 'CC BY-SA 4.0', 'link': 'https://stackoverflow.com/questions/60819432/can-i-select-an-element-based-on-a-data-value-greater-than-comparison', 'title': 'Can I select an element based on a data value greater than comparison?'}, {'tags': ['c#', 'microsoft-teams', 'azure-communication-services'], 'owner': {'account_id': 9526200, 'reputation': 193, 'user_id': 7079339, 'user_type': 'registered', 'accept_rate': 43, 'profile_image': 'https://www.gravatar.com/avatar/9ad3e55f00118075beeba887f2bbd605?s=256&d=identicon&r=PG&f=y&so-version=2', 'display_name': 'Vladimir B', 'link': 'https://stackoverflow.com/users/7079339/vladimir-b'}, 'is_answered': False, 'view_count': 70, 'answer_count': 1, 'score': 0, 'last_activity_date': 1752518773, 'creation_date': 1752098204, 'last_edit_date': 1752503317, 'question_id': 79696298, 'content_license': 'CC BY-SA 4.0', 'link': 'https://stackoverflow.com/questions/79696298/how-to-accept-incoming-teams-call-in-acs-call-automation-sdk-and-transfer-to-sip', 'title': 'How to accept incoming Teams call in ACS Call Automation SDK and transfer to SIP without Teams Phone license?'}, {'tags': ['php', 'laravel', 'laravel-livewire'], 'owner': {'account_id': 33277634, 'reputation': 1, 'user_id': 25766435, 'user_type': 'registered', 'profile_image': 'https://www.gravatar.com/avatar/c31b366544c4f4ca34f662e98a3595dd?s=256&d=identicon&r=PG&f=y&so-version=2', 'display_name': 'Juma Russell', 'link': 'https://stackoverflow.com/users/25766435/juma-russell'}, 'is_answered': False, 'view_count': 11, 'answer_count': 0, 'score': 0, 'last_activity_date': 1752518767, 'creation_date': 1752517265, 'last_edit_date': 1752518767, 'question_id': 79701241, 'content_license': 'CC BY-SA 4.0', 'link': 'https://stackoverflow.com/questions/79701241/i-am-trying-to-dispatch-an-event-inside-a-lifecycle-hook-but-enters-into-an-inf', 'title': 'I am trying to dispatch an event inside a lifecycle hook, but enters into an infinite loop'}, {'tags': ['r', 'gtsummary', 'gt'], 'owner': {'account_id': 424128, 'reputation': 4260, 'user_id': 803954, 'user_type': 'registered', 'accept_rate': 96, 'profile_image': 'https://www.gravatar.com/avatar/2dc4da653d69b00d585db6b28ba0e247?s=256&d=identicon&r=PG', 'display_name': 'bdeonovic', 'link': 'https://stackoverflow.com/users/803954/bdeonovic'}, 'is_answered': True, 'view_count': 37, 'answer_count': 1, 'score': 4, 'last_activity_date': 1752518767, 'creation_date': 1752513286, 'last_edit_date': 1752518767, 'question_id': 79701189, 'content_license': 'CC BY-SA 4.0', 'link': 'https://stackoverflow.com/questions/79701189/r-disable-formatting-of-fractions-in-tbl-summary', 'title': 'R: Disable Formatting of fractions in tbl_summary'}, {'tags': ['c++', 'interactive-brokers'], 'owner': {'account_id': 4437820, 'reputation': 685, 'user_id': 3613174, 'user_type': 'registered', 'accept_rate': 29, 'profile_image': 'https://www.gravatar.com/avatar/a97a4b4c6c90dbebc6b7d8481dd16081?s=256&d=identicon&r=PG&f=y&so-version=2', 'display_name': 'user3613174', 'link': 'https://stackoverflow.com/users/3613174/user3613174'}, 'is_answered': False, 'view_count': 24, 'answer_count': 0, 'score': -1, 'last_activity_date': 1752518743, 'creation_date': 1752518743, 'question_id': 79701259, 'content_license': 'CC BY-SA 4.0', 'link': 'https://stackoverflow.com/questions/79701259/create-a-new-crypto-order-stock-demo-code', 'title': 'Create a new Crypto order - stock demo/code'}, {'tags': ['c#', 'asp.net-core', 'entity-framework-core', '.net-9.0'], 'owner': {'account_id': 43030625, 'reputation': 1, 'user_id': 31039703, 'user_type': 'registered', 'profile_image': 'https://www.gravatar.com/avatar/7d3c5cf893eb9c1ff130df651326a9f8?s=256&d=identicon&r=PG&f=y&so-version=2', 'display_name': 'Santiago Garc&#237;a', 'link': 'https://stackoverflow.com/users/31039703/santiago-garc%c3%ada'}, 'is_answered': False, 'view_count': 23, 'answer_count': 0, 'score': 0, 'last_activity_date': 1752518738, 'creation_date': 1752510388, 'last_edit_date': 1752518738, 'question_id': 79701130, 'content_license': 'CC BY-SA 4.0', 'link': 'https://stackoverflow.com/questions/79701130/how-works-idesigntimedbcontextfactory', 'title': 'How works IDesignTimeDbContextFactory?'}, {'tags': ['java', 'spring', 'junit'], 'owner': {'account_id': 987434, 'reputation': 12320, 'user_id': 1005607, 'user_type': 'registered', 'accept_rate': 64, 'profile_image': 'https://www.gravatar.com/avatar/784311347e657bc34c93a6b7cb7d3faf?s=256&d=identicon&r=PG', 'display_name': 'gene b.', 'link': 'https://stackoverflow.com/users/1005607/gene-b'}, 'is_answered': False, 'view_count': 11, 'answer_count': 0, 'score': 0, 'last_activity_date': 1752518639, 'creation_date': 1752517077, 'last_edit_date': 1752518639, 'question_id': 79701240, 'content_license': 'CC BY-SA 4.0', 'link': 'https://stackoverflow.com/questions/79701240/disabledif-with-junit-depending-on-a-string-value-in-application-yml', 'title': '@DisabledIf with jUnit depending on a string value in application.yml'}, {'tags': ['r', 'ggplot2'], 'owner': {'account_id': 30669519, 'reputation': 6601, 'user_id': 23512643, 'user_type': 'registered', 'profile_image': 'https://i.sstatic.net/Q8Sz4.jpg?s=256', 'display_name': 'stats_noob', 'link': 'https://stackoverflow.com/users/23512643/stats-noob'}, 'is_answered': False, 'view_count': 158, 'answer_count': 1, 'score': 1, 'last_activity_date': 1752518622, 'creation_date': 1743742026, 'last_edit_date': 1752518622, 'question_id': 79554476, 'content_license': 'CC BY-SA 4.0', 'link': 'https://stackoverflow.com/questions/79554476/creating-a-block-graph-in-r', 'title': 'Creating a block graph in R'}, {'tags': ['kotlin', 'google-sheets-api'], 'owner': {'account_id': 2073393, 'reputation': 3575, 'user_id': 1847378, 'user_type': 'registered', 'profile_image': 'https://www.gravatar.com/avatar/e8990d3c34829910b2318ed16b09544d?s=256&d=identicon&r=PG', 'display_name': 'AndrewL', 'link': 'https://stackoverflow.com/users/1847378/andrewl'}, 'is_answered': False, 'view_count': 866, 'answer_count': 1, 'score': 0, 'last_activity_date': 1752518560, 'creation_date': 1663954041, 'question_id': 73831133, 'content_license': 'CC BY-SA 4.0', 'link': 'https://stackoverflow.com/questions/73831133/how-do-you-convert-a1-notation-into-gridrange-for-google-spreadsheet-api', 'title': 'How do you convert A1 Notation into GridRange for Google Spreadsheet API'}, {'tags': ['wakeup', 'macbookpro'], 'owner': {'account_id': 43032254, 'reputation': 1, 'user_id': 31040554, 'user_type': 'registered', 'profile_image': 'https://www.gravatar.com/avatar/4444137e98f0d72c6197a3fed50341df?s=256&d=identicon&r=PG&f=y&so-version=2', 'display_name': 'NikRib', 'link': 'https://stackoverflow.com/users/31040554/nikrib'}, 'is_answered': False, 'view_count': 15, 'closed_date': 1752518909, 'answer_count': 0, 'score': -2, 'last_activity_date': 1752518536, 'creation_date': 1752518536, 'question_id': 79701257, 'link': 'https://stackoverflow.com/questions/79701257/how-to-prevent-macbook-pro-from-powering-up-by-pressing-any-key', 'closed_reason': 'Not suitable for this site', 'title': 'how to prevent macbook pro from powering up by pressing any key'}, {'tags': ['python', 'apache-spark', 'pyspark'], 'owner': {'account_id': 22081918, 'reputation': 23, 'user_id': 16341374, 'user_type': 'registered', 'profile_image': 'https://lh3.googleusercontent.com/a/AATXAJyXH1yRVYy3OauvRDTBuj8mry9qNmCWtCnYkA5d=k-s256', 'display_name': 'Aaditya ', 'link': 'https://stackoverflow.com/users/16341374/aaditya'}, 'is_answered': False, 'view_count': 69, 'answer_count': 0, 'score': 0, 'last_activity_date': 1752518355, 'creation_date': 1750757553, 'last_edit_date': 1752518232, 'question_id': 79677346, 'content_license': 'CC BY-SA 4.0', 'link': 'https://stackoverflow.com/questions/79677346/does-converting-an-rdd-to-dataframe-and-back-affect-partitions-or-data-structure', 'title': 'Does converting an RDD to DataFrame and back affect partitions or data structure inside partitions in Spark?'}, {'tags': ['nunit', 'nunit-console'], 'owner': {'account_id': 2329897, 'reputation': 102, 'user_id': 2043579, 'user_type': 'registered', 'profile_image': 'https://www.gravatar.com/avatar/49579674c78a8961b37de408aa7308d6?s=256&d=identicon&r=PG', 'display_name': 'Ken', 'link': 'https://stackoverflow.com/users/2043579/ken'}, 'is_answered': False, 'view_count': 9, 'answer_count': 1, 'score': 0, 'last_activity_date': 1752518335, 'creation_date': 1752507853, 'question_id': 79701099, 'content_license': 'CC BY-SA 4.0', 'link': 'https://stackoverflow.com/questions/79701099/how-can-i-set-a-session-timeout-for-the-entire-test-run-with-nunit-console-via-c', 'title': 'How can I set a session timeout for the entire test run with NUnit Console via command-line?'}, {'tags': ['list', 'cmake', 'macros', 'set', 'expansion'], 'owner': {'account_id': 12684651, 'reputation': 657, 'user_id': 9216943, 'user_type': 'registered', 'profile_image': 'https://lh6.googleusercontent.com/-Vq8ii5GQCKw/AAAAAAAAAAI/AAAAAAAAAU4/Q-nW6SPnbc4/s256-rj/photo.jpg', 'display_name': 'Zach ', 'link': 'https://stackoverflow.com/users/9216943/zach'}, 'is_answered': False, 'view_count': 40, 'closed_date': 1752174531, 'answer_count': 0, 'score': 0, 'last_activity_date': 1752518303, 'creation_date': 1751932622, 'last_edit_date': 1752518303, 'question_id': 79693529, 'link': 'https://stackoverflow.com/questions/79693529/why-does-this-cmake-list-variable-expansion-not-behave-as-expected', 'closed_reason': 'Not suitable for this site', 'title': 'Why does this CMake list variable expansion not behave as expected?'}, {'tags': ['c', 'windows', 'debugging', 'windbg'], 'owner': {'account_id': 102320, 'reputation': 1538, 'user_id': 274726, 'user_type': 'registered', 'accept_rate': 69, 'profile_image': 'https://www.gravatar.com/avatar/74488565698c574377f9241216e33525?s=256&d=identicon&r=PG', 'display_name': 'Alex Spence', 'link': 'https://stackoverflow.com/users/274726/alex-spence'}, 'is_answered': True, 'view_count': 5457, 'accepted_answer_id': 11475158, 'answer_count': 2, 'score': 3, 'last_activity_date': 1752518280, 'creation_date': 1342199008, 'last_edit_date': 1342199128, 'question_id': 11475063, 'content_license': 'CC BY-SA 3.0', 'link': 'https://stackoverflow.com/questions/11475063/how-to-print-the-data-of-a-c-structure-in-windbg', 'title': 'How to print the data of a C structure in Windbg'}, {'tags': ['c#', 'string'], 'owner': {'account_id': 1491757, 'reputation': 817, 'user_id': 1398693, 'user_type': 'registered', 'accept_rate': 100, 'profile_image': 'https://www.gravatar.com/avatar/132b062289b079963d0b52b724cf9da4?s=256&d=identicon&r=PG', 'display_name': 'Axxelsian', 'link': 'https://stackoverflow.com/users/1398693/axxelsian'}, 'is_answered': True, 'view_count': 40937, 'closed_date': 1362645209, 'answer_count': 3, 'score': 13, 'last_activity_date': 1752518214, 'creation_date': 1338903313, 'last_edit_date': 1338903654, 'question_id': 10898338, 'link': 'https://stackoverflow.com/questions/10898338/c-string-replace-to-remove-illegal-characters', 'closed_reason': 'exact duplicate', 'title': 'C# string.replace to remove illegal characters'}]\n"
          ]
        }
      ]
    },
    {
      "cell_type": "code",
      "source": [
        "for questions in result.json()['items']:\n",
        "  print(questions['title'])\n",
        "  print(questions['link'])\n",
        "  print()"
      ],
      "metadata": {
        "colab": {
          "base_uri": "https://localhost:8080/"
        },
        "id": "_sg9OtGEqZre",
        "outputId": "a6d981b6-8cc9-4c0d-ad32-4f66429fa6f1"
      },
      "execution_count": 6,
      "outputs": [
        {
          "output_type": "stream",
          "name": "stdout",
          "text": [
            "Pod to service traffic on GKE Dataplane v2 vs Cilium\n",
            "https://stackoverflow.com/questions/79698289/pod-to-service-traffic-on-gke-dataplane-v2-vs-cilium\n",
            "\n",
            "Temporarily export entire environment for a single command?\n",
            "https://stackoverflow.com/questions/79701172/temporarily-export-entire-environment-for-a-single-command\n",
            "\n",
            "Jquery DatetimePicker Selected Datetime automatically shifting Issue\n",
            "https://stackoverflow.com/questions/79701266/jquery-datetimepicker-selected-datetime-automatically-shifting-issue\n",
            "\n",
            "Formik - How to reset form after confirmation\n",
            "https://stackoverflow.com/questions/55583815/formik-how-to-reset-form-after-confirmation\n",
            "\n",
            "onclick event not firing under any circumstance, but worked earlier in document\n",
            "https://stackoverflow.com/questions/79701251/onclick-event-not-firing-under-any-circumstance-but-worked-earlier-in-document\n",
            "\n",
            "Approval stage in Azure Devops\n",
            "https://stackoverflow.com/questions/79699052/approval-stage-in-azure-devops\n",
            "\n",
            "How to write data to a gip device (Xbox Series controller)?\n",
            "https://stackoverflow.com/questions/79701207/how-to-write-data-to-a-gip-device-xbox-series-controller\n",
            "\n",
            "Unity Container PerResolveLiveTimeManager with multi-database and multiple requests on IIS\n",
            "https://stackoverflow.com/questions/35948579/unity-container-perresolvelivetimemanager-with-multi-database-and-multiple-reque\n",
            "\n",
            "Generating blue noise with values sampled from a log normal distribution\n",
            "https://stackoverflow.com/questions/79701003/generating-blue-noise-with-values-sampled-from-a-log-normal-distribution\n",
            "\n",
            "The Next js api proxy is not forwarding cookies properly\n",
            "https://stackoverflow.com/questions/79700489/the-next-js-api-proxy-is-not-forwarding-cookies-properly\n",
            "\n",
            "_reactNative.BackHandler.removeEventListener is not a function (it is undefined)\n",
            "https://stackoverflow.com/questions/79684498/reactnative-backhandler-removeeventlistener-is-not-a-function-it-is-undefined\n",
            "\n",
            "VSCode Autocomplete And Suggestion (IntelliSense) Doesn&#39;t Work For Tensorflow And Keras Libraries?\n",
            "https://stackoverflow.com/questions/73496946/vscode-autocomplete-and-suggestion-intellisense-doesnt-work-for-tensorflow-an\n",
            "\n",
            "What is the quirksmode code for loading styles based on IE version\n",
            "https://stackoverflow.com/questions/2000089/what-is-the-quirksmode-code-for-loading-styles-based-on-ie-version\n",
            "\n",
            "How to implement a generalized N-Sum algorithm for variable k (user input) in Java?\n",
            "https://stackoverflow.com/questions/79700970/how-to-implement-a-generalized-n-sum-algorithm-for-variable-k-user-input-in-ja\n",
            "\n",
            "EF Code First &quot;Invalid column name &#39;Discriminator&#39;&quot; but no inheritance\n",
            "https://stackoverflow.com/questions/6553935/ef-code-first-invalid-column-name-discriminator-but-no-inheritance\n",
            "\n",
            "Can I select an element based on a data value greater than comparison?\n",
            "https://stackoverflow.com/questions/60819432/can-i-select-an-element-based-on-a-data-value-greater-than-comparison\n",
            "\n",
            "How to accept incoming Teams call in ACS Call Automation SDK and transfer to SIP without Teams Phone license?\n",
            "https://stackoverflow.com/questions/79696298/how-to-accept-incoming-teams-call-in-acs-call-automation-sdk-and-transfer-to-sip\n",
            "\n",
            "I am trying to dispatch an event inside a lifecycle hook, but enters into an infinite loop\n",
            "https://stackoverflow.com/questions/79701241/i-am-trying-to-dispatch-an-event-inside-a-lifecycle-hook-but-enters-into-an-inf\n",
            "\n",
            "R: Disable Formatting of fractions in tbl_summary\n",
            "https://stackoverflow.com/questions/79701189/r-disable-formatting-of-fractions-in-tbl-summary\n",
            "\n",
            "Create a new Crypto order - stock demo/code\n",
            "https://stackoverflow.com/questions/79701259/create-a-new-crypto-order-stock-demo-code\n",
            "\n",
            "How works IDesignTimeDbContextFactory?\n",
            "https://stackoverflow.com/questions/79701130/how-works-idesigntimedbcontextfactory\n",
            "\n",
            "@DisabledIf with jUnit depending on a string value in application.yml\n",
            "https://stackoverflow.com/questions/79701240/disabledif-with-junit-depending-on-a-string-value-in-application-yml\n",
            "\n",
            "Creating a block graph in R\n",
            "https://stackoverflow.com/questions/79554476/creating-a-block-graph-in-r\n",
            "\n",
            "How do you convert A1 Notation into GridRange for Google Spreadsheet API\n",
            "https://stackoverflow.com/questions/73831133/how-do-you-convert-a1-notation-into-gridrange-for-google-spreadsheet-api\n",
            "\n",
            "how to prevent macbook pro from powering up by pressing any key\n",
            "https://stackoverflow.com/questions/79701257/how-to-prevent-macbook-pro-from-powering-up-by-pressing-any-key\n",
            "\n",
            "Does converting an RDD to DataFrame and back affect partitions or data structure inside partitions in Spark?\n",
            "https://stackoverflow.com/questions/79677346/does-converting-an-rdd-to-dataframe-and-back-affect-partitions-or-data-structure\n",
            "\n",
            "How can I set a session timeout for the entire test run with NUnit Console via command-line?\n",
            "https://stackoverflow.com/questions/79701099/how-can-i-set-a-session-timeout-for-the-entire-test-run-with-nunit-console-via-c\n",
            "\n",
            "Why does this CMake list variable expansion not behave as expected?\n",
            "https://stackoverflow.com/questions/79693529/why-does-this-cmake-list-variable-expansion-not-behave-as-expected\n",
            "\n",
            "How to print the data of a C structure in Windbg\n",
            "https://stackoverflow.com/questions/11475063/how-to-print-the-data-of-a-c-structure-in-windbg\n",
            "\n",
            "C# string.replace to remove illegal characters\n",
            "https://stackoverflow.com/questions/10898338/c-string-replace-to-remove-illegal-characters\n",
            "\n"
          ]
        }
      ]
    },
    {
      "cell_type": "code",
      "source": [
        "for questions in result.json()['items']:\n",
        "\n",
        "  if questions['answer_count']==0:\n",
        "\n",
        "      print(questions['title'])\n",
        "      print(questions['link'])\n",
        "\n",
        "else:\n",
        "      print(\"skipped\")\n",
        "\n",
        "      print()"
      ],
      "metadata": {
        "colab": {
          "base_uri": "https://localhost:8080/"
        },
        "id": "74WbQY75qgW3",
        "outputId": "02f93dae-9c68-40aa-a7ee-b4ee3f504822"
      },
      "execution_count": 7,
      "outputs": [
        {
          "output_type": "stream",
          "name": "stdout",
          "text": [
            "Jquery DatetimePicker Selected Datetime automatically shifting Issue\n",
            "https://stackoverflow.com/questions/79701266/jquery-datetimepicker-selected-datetime-automatically-shifting-issue\n",
            "onclick event not firing under any circumstance, but worked earlier in document\n",
            "https://stackoverflow.com/questions/79701251/onclick-event-not-firing-under-any-circumstance-but-worked-earlier-in-document\n",
            "How to write data to a gip device (Xbox Series controller)?\n",
            "https://stackoverflow.com/questions/79701207/how-to-write-data-to-a-gip-device-xbox-series-controller\n",
            "The Next js api proxy is not forwarding cookies properly\n",
            "https://stackoverflow.com/questions/79700489/the-next-js-api-proxy-is-not-forwarding-cookies-properly\n",
            "How to implement a generalized N-Sum algorithm for variable k (user input) in Java?\n",
            "https://stackoverflow.com/questions/79700970/how-to-implement-a-generalized-n-sum-algorithm-for-variable-k-user-input-in-ja\n",
            "I am trying to dispatch an event inside a lifecycle hook, but enters into an infinite loop\n",
            "https://stackoverflow.com/questions/79701241/i-am-trying-to-dispatch-an-event-inside-a-lifecycle-hook-but-enters-into-an-inf\n",
            "Create a new Crypto order - stock demo/code\n",
            "https://stackoverflow.com/questions/79701259/create-a-new-crypto-order-stock-demo-code\n",
            "How works IDesignTimeDbContextFactory?\n",
            "https://stackoverflow.com/questions/79701130/how-works-idesigntimedbcontextfactory\n",
            "@DisabledIf with jUnit depending on a string value in application.yml\n",
            "https://stackoverflow.com/questions/79701240/disabledif-with-junit-depending-on-a-string-value-in-application-yml\n",
            "how to prevent macbook pro from powering up by pressing any key\n",
            "https://stackoverflow.com/questions/79701257/how-to-prevent-macbook-pro-from-powering-up-by-pressing-any-key\n",
            "Does converting an RDD to DataFrame and back affect partitions or data structure inside partitions in Spark?\n",
            "https://stackoverflow.com/questions/79677346/does-converting-an-rdd-to-dataframe-and-back-affect-partitions-or-data-structure\n",
            "Why does this CMake list variable expansion not behave as expected?\n",
            "https://stackoverflow.com/questions/79693529/why-does-this-cmake-list-variable-expansion-not-behave-as-expected\n",
            "skipped\n",
            "\n"
          ]
        }
      ]
    }
  ]
}